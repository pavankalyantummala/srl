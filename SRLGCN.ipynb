{
  "nbformat": 4,
  "nbformat_minor": 0,
  "metadata": {
    "colab": {
      "name": "SRLGCN.ipynb",
      "provenance": [],
      "collapsed_sections": [],
      "mount_file_id": "1Fvg1sWYqAbetwX_6MkkmHHhETgJC2ZJw",
      "authorship_tag": "ABX9TyPe9nrw94EKMMKndwlczPOg",
      "include_colab_link": true
    },
    "kernelspec": {
      "name": "python3",
      "display_name": "Python 3"
    }
  },
  "cells": [
    {
      "cell_type": "markdown",
      "metadata": {
        "id": "view-in-github",
        "colab_type": "text"
      },
      "source": [
        "<a href=\"https://colab.research.google.com/github/pavankalyantummala/srl/blob/master/SRLGCN.ipynb\" target=\"_parent\"><img src=\"https://colab.research.google.com/assets/colab-badge.svg\" alt=\"Open In Colab\"/></a>"
      ]
    },
    {
      "cell_type": "code",
      "metadata": {
        "id": "4jK7ro4B1wxP",
        "colab_type": "code",
        "outputId": "1da86ed5-05be-4eda-ed88-e14daceaa9f3",
        "colab": {
          "base_uri": "https://localhost:8080/",
          "height": 639
        }
      },
      "source": [
        "import pandas as pd\n",
        "import numpy as np\n",
        "import matplotlib.pyplot as plt\n",
        "plt.style.use(\"ggplot\")\n",
        "\n",
        "data = pd.read_csv(\"/content/drive/My Drive/SRL/fulltrainmod(5).csv\", encoding=\"latin1\")\n",
        "data = data.fillna(method=\"ffill\")\n",
        "data.tail(20)"
      ],
      "execution_count": 0,
      "outputs": [
        {
          "output_type": "execute_result",
          "data": {
            "text/html": [
              "<div>\n",
              "<style scoped>\n",
              "    .dataframe tbody tr th:only-of-type {\n",
              "        vertical-align: middle;\n",
              "    }\n",
              "\n",
              "    .dataframe tbody tr th {\n",
              "        vertical-align: top;\n",
              "    }\n",
              "\n",
              "    .dataframe thead th {\n",
              "        text-align: right;\n",
              "    }\n",
              "</style>\n",
              "<table border=\"1\" class=\"dataframe\">\n",
              "  <thead>\n",
              "    <tr style=\"text-align: right;\">\n",
              "      <th></th>\n",
              "      <th>Sentence</th>\n",
              "      <th>word</th>\n",
              "      <th>tag</th>\n",
              "      <th>pred</th>\n",
              "    </tr>\n",
              "  </thead>\n",
              "  <tbody>\n",
              "    <tr>\n",
              "      <th>4625280</th>\n",
              "      <td>Sentence: 167346</td>\n",
              "      <td>,</td>\n",
              "      <td>O</td>\n",
              "      <td>PADword</td>\n",
              "    </tr>\n",
              "    <tr>\n",
              "      <th>4625281</th>\n",
              "      <td>Sentence: 167346</td>\n",
              "      <td>the</td>\n",
              "      <td>O</td>\n",
              "      <td>PADword</td>\n",
              "    </tr>\n",
              "    <tr>\n",
              "      <th>4625282</th>\n",
              "      <td>Sentence: 167346</td>\n",
              "      <td>board</td>\n",
              "      <td>O</td>\n",
              "      <td>PADword</td>\n",
              "    </tr>\n",
              "    <tr>\n",
              "      <th>4625283</th>\n",
              "      <td>Sentence: 167346</td>\n",
              "      <td>might</td>\n",
              "      <td>O</td>\n",
              "      <td>PADword</td>\n",
              "    </tr>\n",
              "    <tr>\n",
              "      <th>4625284</th>\n",
              "      <td>Sentence: 167346</td>\n",
              "      <td>be</td>\n",
              "      <td>O</td>\n",
              "      <td>PADword</td>\n",
              "    </tr>\n",
              "    <tr>\n",
              "      <th>4625285</th>\n",
              "      <td>Sentence: 167346</td>\n",
              "      <td>force</td>\n",
              "      <td>O</td>\n",
              "      <td>PADword</td>\n",
              "    </tr>\n",
              "    <tr>\n",
              "      <th>4625286</th>\n",
              "      <td>Sentence: 167346</td>\n",
              "      <td>to</td>\n",
              "      <td>A2</td>\n",
              "      <td>PADword</td>\n",
              "    </tr>\n",
              "    <tr>\n",
              "      <th>4625287</th>\n",
              "      <td>Sentence: 167346</td>\n",
              "      <td>exclude</td>\n",
              "      <td>O</td>\n",
              "      <td>PADword</td>\n",
              "    </tr>\n",
              "    <tr>\n",
              "      <th>4625288</th>\n",
              "      <td>Sentence: 167346</td>\n",
              "      <td>him</td>\n",
              "      <td>O</td>\n",
              "      <td>PADword</td>\n",
              "    </tr>\n",
              "    <tr>\n",
              "      <th>4625289</th>\n",
              "      <td>Sentence: 167346</td>\n",
              "      <td>from</td>\n",
              "      <td>O</td>\n",
              "      <td>PADword</td>\n",
              "    </tr>\n",
              "    <tr>\n",
              "      <th>4625290</th>\n",
              "      <td>Sentence: 167346</td>\n",
              "      <td>its</td>\n",
              "      <td>O</td>\n",
              "      <td>PADword</td>\n",
              "    </tr>\n",
              "    <tr>\n",
              "      <th>4625291</th>\n",
              "      <td>Sentence: 167346</td>\n",
              "      <td>deliberation</td>\n",
              "      <td>O</td>\n",
              "      <td>PADword</td>\n",
              "    </tr>\n",
              "    <tr>\n",
              "      <th>4625292</th>\n",
              "      <td>Sentence: 167346</td>\n",
              "      <td>in</td>\n",
              "      <td>O</td>\n",
              "      <td>PADword</td>\n",
              "    </tr>\n",
              "    <tr>\n",
              "      <th>4625293</th>\n",
              "      <td>Sentence: 167346</td>\n",
              "      <td>order</td>\n",
              "      <td>O</td>\n",
              "      <td>order</td>\n",
              "    </tr>\n",
              "    <tr>\n",
              "      <th>4625294</th>\n",
              "      <td>Sentence: 167346</td>\n",
              "      <td>to</td>\n",
              "      <td>A1</td>\n",
              "      <td>PADword</td>\n",
              "    </tr>\n",
              "    <tr>\n",
              "      <th>4625295</th>\n",
              "      <td>Sentence: 167346</td>\n",
              "      <td>be</td>\n",
              "      <td>O</td>\n",
              "      <td>PADword</td>\n",
              "    </tr>\n",
              "    <tr>\n",
              "      <th>4625296</th>\n",
              "      <td>Sentence: 167346</td>\n",
              "      <td>fair</td>\n",
              "      <td>O</td>\n",
              "      <td>PADword</td>\n",
              "    </tr>\n",
              "    <tr>\n",
              "      <th>4625297</th>\n",
              "      <td>Sentence: 167346</td>\n",
              "      <td>to</td>\n",
              "      <td>O</td>\n",
              "      <td>PADword</td>\n",
              "    </tr>\n",
              "    <tr>\n",
              "      <th>4625298</th>\n",
              "      <td>Sentence: 167346</td>\n",
              "      <td>other</td>\n",
              "      <td>O</td>\n",
              "      <td>PADword</td>\n",
              "    </tr>\n",
              "    <tr>\n",
              "      <th>4625299</th>\n",
              "      <td>Sentence: 167346</td>\n",
              "      <td>bidder</td>\n",
              "      <td>O</td>\n",
              "      <td>PADword</td>\n",
              "    </tr>\n",
              "  </tbody>\n",
              "</table>\n",
              "</div>"
            ],
            "text/plain": [
              "                 Sentence          word tag     pred\n",
              "4625280  Sentence: 167346             ,   O  PADword\n",
              "4625281  Sentence: 167346           the   O  PADword\n",
              "4625282  Sentence: 167346         board   O  PADword\n",
              "4625283  Sentence: 167346         might   O  PADword\n",
              "4625284  Sentence: 167346            be   O  PADword\n",
              "4625285  Sentence: 167346         force   O  PADword\n",
              "4625286  Sentence: 167346            to  A2  PADword\n",
              "4625287  Sentence: 167346       exclude   O  PADword\n",
              "4625288  Sentence: 167346           him   O  PADword\n",
              "4625289  Sentence: 167346          from   O  PADword\n",
              "4625290  Sentence: 167346           its   O  PADword\n",
              "4625291  Sentence: 167346  deliberation   O  PADword\n",
              "4625292  Sentence: 167346            in   O  PADword\n",
              "4625293  Sentence: 167346         order   O    order\n",
              "4625294  Sentence: 167346            to  A1  PADword\n",
              "4625295  Sentence: 167346            be   O  PADword\n",
              "4625296  Sentence: 167346          fair   O  PADword\n",
              "4625297  Sentence: 167346            to   O  PADword\n",
              "4625298  Sentence: 167346         other   O  PADword\n",
              "4625299  Sentence: 167346        bidder   O  PADword"
            ]
          },
          "metadata": {
            "tags": []
          },
          "execution_count": 2
        }
      ]
    },
    {
      "cell_type": "code",
      "metadata": {
        "id": "DD2GjXl326UG",
        "colab_type": "code",
        "outputId": "143c7166-e741-40ae-ecbc-d053f9ca89ea",
        "colab": {
          "base_uri": "https://localhost:8080/",
          "height": 639
        }
      },
      "source": [
        "data1 = pd.read_csv(\"/content/drive/My Drive/SRL/fullevalumod.csv\", encoding=\"latin1\")\n",
        "data1 = data1.fillna(method=\"ffill\")\n",
        "data1.tail(20)"
      ],
      "execution_count": 0,
      "outputs": [
        {
          "output_type": "execute_result",
          "data": {
            "text/html": [
              "<div>\n",
              "<style scoped>\n",
              "    .dataframe tbody tr th:only-of-type {\n",
              "        vertical-align: middle;\n",
              "    }\n",
              "\n",
              "    .dataframe tbody tr th {\n",
              "        vertical-align: top;\n",
              "    }\n",
              "\n",
              "    .dataframe thead th {\n",
              "        text-align: right;\n",
              "    }\n",
              "</style>\n",
              "<table border=\"1\" class=\"dataframe\">\n",
              "  <thead>\n",
              "    <tr style=\"text-align: right;\">\n",
              "      <th></th>\n",
              "      <th>Sentence</th>\n",
              "      <th>word</th>\n",
              "      <th>tag</th>\n",
              "      <th>pred</th>\n",
              "    </tr>\n",
              "  </thead>\n",
              "  <tbody>\n",
              "    <tr>\n",
              "      <th>281457</th>\n",
              "      <td>Sentence: 10081</td>\n",
              "      <td>bolster</td>\n",
              "      <td>O</td>\n",
              "      <td>bolster</td>\n",
              "    </tr>\n",
              "    <tr>\n",
              "      <th>281458</th>\n",
              "      <td>Sentence: 10081</td>\n",
              "      <td>its</td>\n",
              "      <td>O</td>\n",
              "      <td>PADword</td>\n",
              "    </tr>\n",
              "    <tr>\n",
              "      <th>281459</th>\n",
              "      <td>Sentence: 10081</td>\n",
              "      <td>raw</td>\n",
              "      <td>O</td>\n",
              "      <td>PADword</td>\n",
              "    </tr>\n",
              "    <tr>\n",
              "      <th>281460</th>\n",
              "      <td>Sentence: 10081</td>\n",
              "      <td>material</td>\n",
              "      <td>O</td>\n",
              "      <td>PADword</td>\n",
              "    </tr>\n",
              "    <tr>\n",
              "      <th>281461</th>\n",
              "      <td>Sentence: 10081</td>\n",
              "      <td>supply</td>\n",
              "      <td>A1</td>\n",
              "      <td>PADword</td>\n",
              "    </tr>\n",
              "    <tr>\n",
              "      <th>281462</th>\n",
              "      <td>Sentence: 10081</td>\n",
              "      <td>and</td>\n",
              "      <td>O</td>\n",
              "      <td>PADword</td>\n",
              "    </tr>\n",
              "    <tr>\n",
              "      <th>281463</th>\n",
              "      <td>Sentence: 10081</td>\n",
              "      <td>develop</td>\n",
              "      <td>O</td>\n",
              "      <td>PADword</td>\n",
              "    </tr>\n",
              "    <tr>\n",
              "      <th>281464</th>\n",
              "      <td>Sentence: 10081</td>\n",
              "      <td>new</td>\n",
              "      <td>O</td>\n",
              "      <td>PADword</td>\n",
              "    </tr>\n",
              "    <tr>\n",
              "      <th>281465</th>\n",
              "      <td>Sentence: 10081</td>\n",
              "      <td>use</td>\n",
              "      <td>O</td>\n",
              "      <td>PADword</td>\n",
              "    </tr>\n",
              "    <tr>\n",
              "      <th>281466</th>\n",
              "      <td>Sentence: 10081</td>\n",
              "      <td>for</td>\n",
              "      <td>O</td>\n",
              "      <td>PADword</td>\n",
              "    </tr>\n",
              "    <tr>\n",
              "      <th>281467</th>\n",
              "      <td>Sentence: 10081</td>\n",
              "      <td>polypropylene</td>\n",
              "      <td>O</td>\n",
              "      <td>PADword</td>\n",
              "    </tr>\n",
              "    <tr>\n",
              "      <th>281468</th>\n",
              "      <td>Sentence: 10081</td>\n",
              "      <td>,</td>\n",
              "      <td>O</td>\n",
              "      <td>PADword</td>\n",
              "    </tr>\n",
              "    <tr>\n",
              "      <th>281469</th>\n",
              "      <td>Sentence: 10081</td>\n",
              "      <td>whose</td>\n",
              "      <td>O</td>\n",
              "      <td>PADword</td>\n",
              "    </tr>\n",
              "    <tr>\n",
              "      <th>281470</th>\n",
              "      <td>Sentence: 10081</td>\n",
              "      <td>market</td>\n",
              "      <td>O</td>\n",
              "      <td>PADword</td>\n",
              "    </tr>\n",
              "    <tr>\n",
              "      <th>281471</th>\n",
              "      <td>Sentence: 10081</td>\n",
              "      <td>include</td>\n",
              "      <td>O</td>\n",
              "      <td>PADword</td>\n",
              "    </tr>\n",
              "    <tr>\n",
              "      <th>281472</th>\n",
              "      <td>Sentence: 10081</td>\n",
              "      <td>the</td>\n",
              "      <td>O</td>\n",
              "      <td>PADword</td>\n",
              "    </tr>\n",
              "    <tr>\n",
              "      <th>281473</th>\n",
              "      <td>Sentence: 10081</td>\n",
              "      <td>packaging</td>\n",
              "      <td>O</td>\n",
              "      <td>PADword</td>\n",
              "    </tr>\n",
              "    <tr>\n",
              "      <th>281474</th>\n",
              "      <td>Sentence: 10081</td>\n",
              "      <td>and</td>\n",
              "      <td>O</td>\n",
              "      <td>PADword</td>\n",
              "    </tr>\n",
              "    <tr>\n",
              "      <th>281475</th>\n",
              "      <td>Sentence: 10081</td>\n",
              "      <td>automobile</td>\n",
              "      <td>O</td>\n",
              "      <td>PADword</td>\n",
              "    </tr>\n",
              "    <tr>\n",
              "      <th>281476</th>\n",
              "      <td>Sentence: 10081</td>\n",
              "      <td>industry</td>\n",
              "      <td>O</td>\n",
              "      <td>PADword</td>\n",
              "    </tr>\n",
              "  </tbody>\n",
              "</table>\n",
              "</div>"
            ],
            "text/plain": [
              "               Sentence           word tag     pred\n",
              "281457  Sentence: 10081        bolster   O  bolster\n",
              "281458  Sentence: 10081            its   O  PADword\n",
              "281459  Sentence: 10081            raw   O  PADword\n",
              "281460  Sentence: 10081       material   O  PADword\n",
              "281461  Sentence: 10081         supply  A1  PADword\n",
              "281462  Sentence: 10081            and   O  PADword\n",
              "281463  Sentence: 10081        develop   O  PADword\n",
              "281464  Sentence: 10081            new   O  PADword\n",
              "281465  Sentence: 10081            use   O  PADword\n",
              "281466  Sentence: 10081            for   O  PADword\n",
              "281467  Sentence: 10081  polypropylene   O  PADword\n",
              "281468  Sentence: 10081              ,   O  PADword\n",
              "281469  Sentence: 10081          whose   O  PADword\n",
              "281470  Sentence: 10081         market   O  PADword\n",
              "281471  Sentence: 10081        include   O  PADword\n",
              "281472  Sentence: 10081            the   O  PADword\n",
              "281473  Sentence: 10081      packaging   O  PADword\n",
              "281474  Sentence: 10081            and   O  PADword\n",
              "281475  Sentence: 10081     automobile   O  PADword\n",
              "281476  Sentence: 10081       industry   O  PADword"
            ]
          },
          "metadata": {
            "tags": []
          },
          "execution_count": 3
        }
      ]
    },
    {
      "cell_type": "code",
      "metadata": {
        "id": "ldoXlTCj3HU0",
        "colab_type": "code",
        "outputId": "7f7d05c3-e6d1-4df7-c3f2-c2f87f8d92cd",
        "colab": {
          "base_uri": "https://localhost:8080/",
          "height": 34
        }
      },
      "source": [
        "words = set(list(data['word'].values))\n",
        "words.add('PADword')\n",
        "n_words = len(words)\n",
        "n_words"
      ],
      "execution_count": 0,
      "outputs": [
        {
          "output_type": "execute_result",
          "data": {
            "text/plain": [
              "28377"
            ]
          },
          "metadata": {
            "tags": []
          },
          "execution_count": 4
        }
      ]
    },
    {
      "cell_type": "code",
      "metadata": {
        "id": "FX0K1SpB3R55",
        "colab_type": "code",
        "outputId": "45090818-71b9-4a38-e6dc-94cefcea846c",
        "colab": {
          "base_uri": "https://localhost:8080/",
          "height": 34
        }
      },
      "source": [
        "tags = list(set(data[\"tag\"].values))\n",
        "n_tags = len(tags)\n",
        "n_tags"
      ],
      "execution_count": 0,
      "outputs": [
        {
          "output_type": "execute_result",
          "data": {
            "text/plain": [
              "53"
            ]
          },
          "metadata": {
            "tags": []
          },
          "execution_count": 5
        }
      ]
    },
    {
      "cell_type": "code",
      "metadata": {
        "id": "zF7sAe9n3YgY",
        "colab_type": "code",
        "colab": {}
      },
      "source": [
        "class SentenceGetter(object):\n",
        "    \n",
        "    def __init__(self, data):\n",
        "        self.n_sent = 1\n",
        "        self.data = data\n",
        "        self.empty = False\n",
        "        agg_func = lambda s: [(w, p, t) for w, p, t in zip(s[\"word\"].values.tolist(),\n",
        "                                                           s[\"tag\"].values.tolist(),\n",
        "                                                           s[\"pred\"].values.tolist())]\n",
        "        self.grouped = self.data.groupby(\"Sentence\").apply(agg_func)\n",
        "        self.sentences = [s for s in self.grouped]\n",
        "    \n",
        "    def get_next(self):\n",
        "        try:\n",
        "            s = self.grouped[\"Sentence: {}\".format(self.n_sent)]\n",
        "            self.n_sent += 1\n",
        "            return s\n",
        "        except:\n",
        "            return None"
      ],
      "execution_count": 0,
      "outputs": []
    },
    {
      "cell_type": "code",
      "metadata": {
        "id": "t-MIcALV3ezs",
        "colab_type": "code",
        "outputId": "8b31bc02-fd19-4f53-fc9a-26469682f600",
        "colab": {
          "base_uri": "https://localhost:8080/",
          "height": 34
        }
      },
      "source": [
        "getter = SentenceGetter(data)\n",
        "sent = getter.get_next()\n",
        "print(sent)"
      ],
      "execution_count": 0,
      "outputs": [
        {
          "output_type": "stream",
          "text": [
            "[('ms.', 'O', 'PADword'), ('haag', 'A0', 'PADword'), ('play', 'O', 'play'), ('elianti', 'A1', 'PADword'), ('.', 'O', 'PADword')]\n"
          ],
          "name": "stdout"
        }
      ]
    },
    {
      "cell_type": "code",
      "metadata": {
        "id": "8DCch5a73oXx",
        "colab_type": "code",
        "outputId": "5d2203e3-1faf-41bb-b9d7-9ce2a4657ce8",
        "colab": {
          "base_uri": "https://localhost:8080/",
          "height": 54
        }
      },
      "source": [
        "getter1 = SentenceGetter(data1)\n",
        "sent1 = getter1.get_next()\n",
        "print(sent1)"
      ],
      "execution_count": 0,
      "outputs": [
        {
          "output_type": "stream",
          "text": [
            "[('but', 'O', 'PADword'), ('while', 'O', 'PADword'), ('the', 'O', 'PADword'), ('new', 'O', 'PADword'), ('york', 'O', 'PADword'), ('stock', 'O', 'PADword'), ('exchange', 'A1', 'PADword'), ('do', 'O', 'PADword'), ('not', 'AM-NEG', 'PADword'), ('fall', 'O', 'fall'), ('apart', 'A4', 'PADword'), ('friday', 'AM-TMP', 'PADword'), ('as', 'AM-TMP', 'PADword'), ('the', 'O', 'PADword'), ('dow', 'O', 'PADword'), ('jones', 'O', 'PADword'), ('industrial', 'O', 'PADword'), ('average', 'O', 'PADword'), ('plunge', 'O', 'PADword'), ('190.58', 'O', 'PADword'), ('point', 'O', 'PADword'), ('--', 'O', 'PADword'), ('most', 'O', 'PADword'), ('of', 'O', 'PADword'), ('it', 'O', 'PADword'), ('in', 'O', 'PADword'), ('the', 'O', 'PADword'), ('final', 'O', 'PADword'), ('hour', 'O', 'PADword'), ('--', 'O', 'PADword'), ('it', 'O', 'PADword'), ('barely', 'O', 'PADword'), ('manage', 'O', 'PADword'), ('to', 'O', 'PADword'), ('stay', 'O', 'PADword'), ('this', 'O', 'PADword'), ('side', 'O', 'PADword'), ('of', 'O', 'PADword'), ('chaos', 'O', 'PADword')]\n"
          ],
          "name": "stdout"
        }
      ]
    },
    {
      "cell_type": "code",
      "metadata": {
        "id": "od9mT6f33sV1",
        "colab_type": "code",
        "outputId": "57490cff-9405-47c8-b521-59664bfe185f",
        "colab": {
          "base_uri": "https://localhost:8080/",
          "height": 50
        }
      },
      "source": [
        "sentences = getter.sentences\n",
        "print(len(sentences))\n",
        "sentences1 = getter1.sentences\n",
        "print(len(sentences1))"
      ],
      "execution_count": 0,
      "outputs": [
        {
          "output_type": "stream",
          "text": [
            "167347\n",
            "10074\n"
          ],
          "name": "stdout"
        }
      ]
    },
    {
      "cell_type": "code",
      "metadata": {
        "id": "f2DMKdpnSkM-",
        "colab_type": "code",
        "colab": {}
      },
      "source": [
        "sentences2=[]\n",
        "for i in range(len(sentences1)):\n",
        "  k=0\n",
        "  for j in range(len(sentences1[i])):\n",
        "    if(sentences1[i][j][2]!='PADword'):\n",
        "      k=1\n",
        "  if(k==1):\n",
        "    sentences2.append(sentences1[i][:])"
      ],
      "execution_count": 0,
      "outputs": []
    },
    {
      "cell_type": "code",
      "metadata": {
        "id": "jalTYZSX3y37",
        "colab_type": "code",
        "outputId": "d2c2a588-b655-4d47-dc17-76ba08e45cf4",
        "colab": {
          "base_uri": "https://localhost:8080/",
          "height": 34
        }
      },
      "source": [
        "largest_sen = max(len(sen) for sen in sentences)\n",
        "print('biggest sentence has {} words'.format(largest_sen))"
      ],
      "execution_count": 0,
      "outputs": [
        {
          "output_type": "stream",
          "text": [
            "biggest sentence has 143 words\n"
          ],
          "name": "stdout"
        }
      ]
    },
    {
      "cell_type": "code",
      "metadata": {
        "id": "1fXZHV_t33-K",
        "colab_type": "code",
        "outputId": "08b5823c-b78c-4aee-9e13-3f3f94f05c00",
        "colab": {
          "base_uri": "https://localhost:8080/",
          "height": 34
        }
      },
      "source": [
        "tags2index = {t:i for i,t in enumerate(tags)}\n",
        "print(tags2index['A0'])"
      ],
      "execution_count": 0,
      "outputs": [
        {
          "output_type": "stream",
          "text": [
            "14\n"
          ],
          "name": "stdout"
        }
      ]
    },
    {
      "cell_type": "code",
      "metadata": {
        "id": "erIOV6WE4Ale",
        "colab_type": "code",
        "outputId": "0c47fe9b-c03d-412e-b4e0-51ee5a300e2b",
        "colab": {
          "base_uri": "https://localhost:8080/",
          "height": 907
        }
      },
      "source": [
        "tags2index"
      ],
      "execution_count": 0,
      "outputs": [
        {
          "output_type": "execute_result",
          "data": {
            "text/plain": [
              "{'A0': 3,\n",
              " 'A1': 49,\n",
              " 'A2': 4,\n",
              " 'A3': 10,\n",
              " 'A4': 16,\n",
              " 'A5': 21,\n",
              " 'AA': 44,\n",
              " 'AM': 18,\n",
              " 'AM-ADV': 13,\n",
              " 'AM-CAU': 22,\n",
              " 'AM-DIR': 9,\n",
              " 'AM-DIS': 38,\n",
              " 'AM-EXT': 29,\n",
              " 'AM-LOC': 7,\n",
              " 'AM-MNR': 19,\n",
              " 'AM-MOD': 41,\n",
              " 'AM-NEG': 11,\n",
              " 'AM-PNC': 47,\n",
              " 'AM-PRD': 25,\n",
              " 'AM-PRT': 40,\n",
              " 'AM-REC': 34,\n",
              " 'AM-TM': 2,\n",
              " 'AM-TMP': 33,\n",
              " 'C-A0': 42,\n",
              " 'C-A1': 5,\n",
              " 'C-A2': 32,\n",
              " 'C-A3': 20,\n",
              " 'C-A4': 27,\n",
              " 'C-AM-ADV': 45,\n",
              " 'C-AM-CAU': 39,\n",
              " 'C-AM-DIR': 1,\n",
              " 'C-AM-DIS': 14,\n",
              " 'C-AM-EXT': 6,\n",
              " 'C-AM-LOC': 24,\n",
              " 'C-AM-MNR': 17,\n",
              " 'C-AM-NEG': 31,\n",
              " 'C-AM-PNC': 0,\n",
              " 'C-AM-TMP': 46,\n",
              " 'O': 51,\n",
              " 'R-A0': 28,\n",
              " 'R-A1': 30,\n",
              " 'R-A2': 36,\n",
              " 'R-A3': 48,\n",
              " 'R-A4': 43,\n",
              " 'R-AA': 8,\n",
              " 'R-AM-ADV': 12,\n",
              " 'R-AM-CAU': 35,\n",
              " 'R-AM-DIR': 50,\n",
              " 'R-AM-EXT': 26,\n",
              " 'R-AM-LOC': 52,\n",
              " 'R-AM-MNR': 37,\n",
              " 'R-AM-PNC': 15,\n",
              " 'R-AM-TMP': 23}"
            ]
          },
          "metadata": {
            "tags": []
          },
          "execution_count": 144
        }
      ]
    },
    {
      "cell_type": "code",
      "metadata": {
        "id": "jrcBwCa1Qyy_",
        "colab_type": "code",
        "colab": {}
      },
      "source": [
        "import pickle\n",
        "with open(\"/content/drive/My Drive/SRL/tag2index.pkl\", \"wb\") as encoded_pickle:\n",
        "    pickle.dump(tags2index, encoded_pickle)"
      ],
      "execution_count": 0,
      "outputs": []
    },
    {
      "cell_type": "code",
      "metadata": {
        "id": "B0jflbKsRYuj",
        "colab_type": "code",
        "outputId": "542f084f-265d-4d9c-bce6-e4bb504f5e3b",
        "colab": {
          "base_uri": "https://localhost:8080/",
          "height": 34
        }
      },
      "source": [
        "from pickle import load \n",
        "tags2index = load(open(\"/content/drive/My Drive/SRL/tag2index.pkl\", \"rb\"))\n",
        "print('Tags: train=%d' % len(tags2index))"
      ],
      "execution_count": 0,
      "outputs": [
        {
          "output_type": "stream",
          "text": [
            "Tags: train=53\n"
          ],
          "name": "stdout"
        }
      ]
    },
    {
      "cell_type": "code",
      "metadata": {
        "id": "qbbFhI9o4KGI",
        "colab_type": "code",
        "outputId": "db6334f9-ea30-4aaf-aed8-fce5e3873e9f",
        "colab": {
          "base_uri": "https://localhost:8080/",
          "height": 1000
        }
      },
      "source": [
        "max_len = 64\n",
        "X = [[w[0]for w in s] for s in sentences]\n",
        "new_X = []\n",
        "for seq in X:\n",
        "    new_seq = []\n",
        "    for i in range(max_len):\n",
        "        try:\n",
        "            new_seq.append(seq[i])\n",
        "        except:\n",
        "            new_seq.append(\"PADword\")\n",
        "    new_X.append(new_seq)\n",
        "new_X[15]"
      ],
      "execution_count": 0,
      "outputs": [
        {
          "output_type": "execute_result",
          "data": {
            "text/plain": [
              "['after',\n",
              " 'the',\n",
              " 'confusion',\n",
              " 'surround',\n",
              " 'the',\n",
              " 'change',\n",
              " 'of',\n",
              " 'the',\n",
              " 'coke',\n",
              " 'formula',\n",
              " 'in',\n",
              " '1985',\n",
              " ',',\n",
              " 'coca',\n",
              " '-',\n",
              " 'cola',\n",
              " 'be',\n",
              " 'reluctant',\n",
              " 'to',\n",
              " 'clutter',\n",
              " 'the',\n",
              " 'classic',\n",
              " 'name',\n",
              " 'with',\n",
              " 'a',\n",
              " 'brand',\n",
              " 'extension',\n",
              " 'PADword',\n",
              " 'PADword',\n",
              " 'PADword',\n",
              " 'PADword',\n",
              " 'PADword',\n",
              " 'PADword',\n",
              " 'PADword',\n",
              " 'PADword',\n",
              " 'PADword',\n",
              " 'PADword',\n",
              " 'PADword',\n",
              " 'PADword',\n",
              " 'PADword',\n",
              " 'PADword',\n",
              " 'PADword',\n",
              " 'PADword',\n",
              " 'PADword',\n",
              " 'PADword',\n",
              " 'PADword',\n",
              " 'PADword',\n",
              " 'PADword',\n",
              " 'PADword',\n",
              " 'PADword',\n",
              " 'PADword',\n",
              " 'PADword',\n",
              " 'PADword',\n",
              " 'PADword',\n",
              " 'PADword',\n",
              " 'PADword',\n",
              " 'PADword',\n",
              " 'PADword',\n",
              " 'PADword',\n",
              " 'PADword',\n",
              " 'PADword',\n",
              " 'PADword',\n",
              " 'PADword',\n",
              " 'PADword']"
            ]
          },
          "metadata": {
            "tags": []
          },
          "execution_count": 14
        }
      ]
    },
    {
      "cell_type": "code",
      "metadata": {
        "id": "G_qFTGUEmHG_",
        "colab_type": "code",
        "outputId": "fc958810-4608-4d1e-ceea-001e7ce16929",
        "colab": {
          "base_uri": "https://localhost:8080/",
          "height": 1000
        }
      },
      "source": [
        "max_len = 64\n",
        "X = [[w[0]for w in s] for s in sentences2]\n",
        "new_Xtest = []\n",
        "for seq in X:\n",
        "    new_seq = []\n",
        "    for i in range(max_len):\n",
        "        try:\n",
        "          if(seq[i] in word_index):\n",
        "                        new_seq.append(seq[i])\n",
        "          else:\n",
        "            new_seq.append('PADword')\n",
        "        except:\n",
        "            new_seq.append(\"PADword\")\n",
        "    new_Xtest.append(new_seq)\n",
        "new_Xtest[13]"
      ],
      "execution_count": 0,
      "outputs": [
        {
          "output_type": "execute_result",
          "data": {
            "text/plain": [
              "['the',\n",
              " 'rating',\n",
              " 'concern',\n",
              " 'say',\n",
              " 'franklin',\n",
              " \"'s\",\n",
              " '``',\n",
              " 'trouble',\n",
              " 'diversification',\n",
              " 'record',\n",
              " 'in',\n",
              " 'the',\n",
              " 'security',\n",
              " 'business',\n",
              " \"''\",\n",
              " 'be',\n",
              " 'one',\n",
              " 'reason',\n",
              " 'for',\n",
              " 'the',\n",
              " 'downgrade',\n",
              " ',',\n",
              " 'cite',\n",
              " 'the',\n",
              " 'trouble',\n",
              " 'at',\n",
              " 'its',\n",
              " 'PADword',\n",
              " 'rothschild',\n",
              " 'subsidiary',\n",
              " 'and',\n",
              " 'the',\n",
              " 'possible',\n",
              " 'sale',\n",
              " 'of',\n",
              " 'other',\n",
              " 'subsidiary',\n",
              " 'PADword',\n",
              " 'PADword',\n",
              " 'PADword',\n",
              " 'PADword',\n",
              " 'PADword',\n",
              " 'PADword',\n",
              " 'PADword',\n",
              " 'PADword',\n",
              " 'PADword',\n",
              " 'PADword',\n",
              " 'PADword',\n",
              " 'PADword',\n",
              " 'PADword',\n",
              " 'PADword',\n",
              " 'PADword',\n",
              " 'PADword',\n",
              " 'PADword',\n",
              " 'PADword',\n",
              " 'PADword',\n",
              " 'PADword',\n",
              " 'PADword',\n",
              " 'PADword',\n",
              " 'PADword',\n",
              " 'PADword',\n",
              " 'PADword',\n",
              " 'PADword',\n",
              " 'PADword']"
            ]
          },
          "metadata": {
            "tags": []
          },
          "execution_count": 25
        }
      ]
    },
    {
      "cell_type": "code",
      "metadata": {
        "id": "UTuSEvyG4X5N",
        "colab_type": "code",
        "outputId": "d5163aed-2943-4d69-bc40-7e1b3e97df0a",
        "colab": {
          "base_uri": "https://localhost:8080/",
          "height": 1000
        }
      },
      "source": [
        "max_len = 64\n",
        "X = [[w[2]for w in s] for s in sentences]\n",
        "new_P = []\n",
        "for seq in X:\n",
        "    new_seq = []\n",
        "    for i in range(max_len):\n",
        "        try:\n",
        "            new_seq.append(seq[i])\n",
        "        except:\n",
        "            new_seq.append(\"PADword\")\n",
        "    new_P.append(new_seq)\n",
        "new_P[15]"
      ],
      "execution_count": 0,
      "outputs": [
        {
          "output_type": "execute_result",
          "data": {
            "text/plain": [
              "['PADword',\n",
              " 'PADword',\n",
              " 'PADword',\n",
              " 'PADword',\n",
              " 'PADword',\n",
              " 'PADword',\n",
              " 'PADword',\n",
              " 'PADword',\n",
              " 'PADword',\n",
              " 'formula',\n",
              " 'PADword',\n",
              " 'PADword',\n",
              " 'PADword',\n",
              " 'PADword',\n",
              " 'PADword',\n",
              " 'PADword',\n",
              " 'PADword',\n",
              " 'PADword',\n",
              " 'PADword',\n",
              " 'PADword',\n",
              " 'PADword',\n",
              " 'PADword',\n",
              " 'PADword',\n",
              " 'PADword',\n",
              " 'PADword',\n",
              " 'PADword',\n",
              " 'PADword',\n",
              " 'PADword',\n",
              " 'PADword',\n",
              " 'PADword',\n",
              " 'PADword',\n",
              " 'PADword',\n",
              " 'PADword',\n",
              " 'PADword',\n",
              " 'PADword',\n",
              " 'PADword',\n",
              " 'PADword',\n",
              " 'PADword',\n",
              " 'PADword',\n",
              " 'PADword',\n",
              " 'PADword',\n",
              " 'PADword',\n",
              " 'PADword',\n",
              " 'PADword',\n",
              " 'PADword',\n",
              " 'PADword',\n",
              " 'PADword',\n",
              " 'PADword',\n",
              " 'PADword',\n",
              " 'PADword',\n",
              " 'PADword',\n",
              " 'PADword',\n",
              " 'PADword',\n",
              " 'PADword',\n",
              " 'PADword',\n",
              " 'PADword',\n",
              " 'PADword',\n",
              " 'PADword',\n",
              " 'PADword',\n",
              " 'PADword',\n",
              " 'PADword',\n",
              " 'PADword',\n",
              " 'PADword',\n",
              " 'PADword']"
            ]
          },
          "metadata": {
            "tags": []
          },
          "execution_count": 17
        }
      ]
    },
    {
      "cell_type": "code",
      "metadata": {
        "id": "D3hWLddl4jOI",
        "colab_type": "code",
        "outputId": "4b42c7d0-1e77-4948-e5fe-37148754f55d",
        "colab": {
          "base_uri": "https://localhost:8080/",
          "height": 1000
        }
      },
      "source": [
        "max_len = 64\n",
        "X = [[w[2]for w in s] for s in sentences2]\n",
        "new_Ptest = []\n",
        "for seq in X:\n",
        "    new_seq = []\n",
        "    for i in range(max_len):\n",
        "        try:\n",
        "            if(seq[i] in word_index):\n",
        "                          new_seq.append(seq[i])\n",
        "            else:\n",
        "              new_seq.append(\"PADword\")\n",
        "        except:\n",
        "            new_seq.append(\"PADword\")\n",
        "    new_Ptest.append(new_seq)\n",
        "new_Ptest[15]"
      ],
      "execution_count": 0,
      "outputs": [
        {
          "output_type": "execute_result",
          "data": {
            "text/plain": [
              "['PADword',\n",
              " 'PADword',\n",
              " 'PADword',\n",
              " 'PADword',\n",
              " 'PADword',\n",
              " 'PADword',\n",
              " 'PADword',\n",
              " 'PADword',\n",
              " 'PADword',\n",
              " 'PADword',\n",
              " 'PADword',\n",
              " 'PADword',\n",
              " 'PADword',\n",
              " 'PADword',\n",
              " 'PADword',\n",
              " 'PADword',\n",
              " 'PADword',\n",
              " 'PADword',\n",
              " 'PADword',\n",
              " 'PADword',\n",
              " 'PADword',\n",
              " 'PADword',\n",
              " 'PADword',\n",
              " 'PADword',\n",
              " 'PADword',\n",
              " 'PADword',\n",
              " 'PADword',\n",
              " 'PADword',\n",
              " 'PADword',\n",
              " 'PADword',\n",
              " 'PADword',\n",
              " 'secretary',\n",
              " 'PADword',\n",
              " 'PADword',\n",
              " 'PADword',\n",
              " 'PADword',\n",
              " 'PADword',\n",
              " 'PADword',\n",
              " 'PADword',\n",
              " 'PADword',\n",
              " 'PADword',\n",
              " 'PADword',\n",
              " 'PADword',\n",
              " 'PADword',\n",
              " 'PADword',\n",
              " 'PADword',\n",
              " 'PADword',\n",
              " 'PADword',\n",
              " 'PADword',\n",
              " 'PADword',\n",
              " 'PADword',\n",
              " 'PADword',\n",
              " 'PADword',\n",
              " 'PADword',\n",
              " 'PADword',\n",
              " 'PADword',\n",
              " 'PADword',\n",
              " 'PADword',\n",
              " 'PADword',\n",
              " 'PADword',\n",
              " 'PADword',\n",
              " 'PADword',\n",
              " 'PADword',\n",
              " 'PADword']"
            ]
          },
          "metadata": {
            "tags": []
          },
          "execution_count": 26
        }
      ]
    },
    {
      "cell_type": "code",
      "metadata": {
        "id": "ZsXwTNWn4rBZ",
        "colab_type": "code",
        "colab": {}
      },
      "source": [
        "!unzip -uq \"/content/drive/My Drive/SRL/syngcn_embed.zip\" -d \"/content/drive/My Drive/SRL/\""
      ],
      "execution_count": 0,
      "outputs": []
    },
    {
      "cell_type": "code",
      "metadata": {
        "id": "QahyK0pS5QLY",
        "colab_type": "code",
        "outputId": "b4932a5c-ee3f-472a-dffe-9a2f295de144",
        "colab": {
          "base_uri": "https://localhost:8080/",
          "height": 34
        }
      },
      "source": [
        "from keras.preprocessing.text import Tokenizer\n",
        "from keras.preprocessing.sequence import pad_sequences\n",
        "import pickle\n"
      ],
      "execution_count": 0,
      "outputs": [
        {
          "output_type": "stream",
          "text": [
            "Using TensorFlow backend.\n"
          ],
          "name": "stderr"
        }
      ]
    },
    {
      "cell_type": "code",
      "metadata": {
        "id": "3XKZYlMJ5b19",
        "colab_type": "code",
        "colab": {}
      },
      "source": [
        "features = n_words\n",
        "tokenizer = Tokenizer(num_words = features)\n",
        "tokenizer.fit_on_texts(new_X)\n",
        "word_index = tokenizer.word_index\n",
        "newx = tokenizer.texts_to_sequences(new_X)"
      ],
      "execution_count": 0,
      "outputs": []
    },
    {
      "cell_type": "code",
      "metadata": {
        "id": "spXSvuHg5t3_",
        "colab_type": "code",
        "colab": {}
      },
      "source": [
        "\n",
        "# saving\n",
        "with open('/content/drive/My Drive/SRL/tokenizer.pickle', 'wb') as handle:\n",
        "    pickle.dump(tokenizer, handle, protocol=pickle.HIGHEST_PROTOCOL)"
      ],
      "execution_count": 0,
      "outputs": []
    },
    {
      "cell_type": "code",
      "metadata": {
        "id": "SmmQhks753rf",
        "colab_type": "code",
        "colab": {}
      },
      "source": [
        "\n",
        "with open('/content/drive/My Drive/SRL/tokenizer.pickle', 'rb') as handle:\n",
        "    tokenizer1 = pickle.load(handle)"
      ],
      "execution_count": 0,
      "outputs": []
    },
    {
      "cell_type": "code",
      "metadata": {
        "id": "yxHNmWMjFyl9",
        "colab_type": "code",
        "colab": {}
      },
      "source": [
        "word_index = tokenizer1.word_index\n",
        "newx = tokenizer1.texts_to_sequences(new_X)"
      ],
      "execution_count": 0,
      "outputs": []
    },
    {
      "cell_type": "code",
      "metadata": {
        "id": "cPw_yxAujEvi",
        "colab_type": "code",
        "outputId": "15a9ff0c-061f-448b-d5ed-022ae23f9233",
        "colab": {
          "base_uri": "https://localhost:8080/",
          "height": 34
        }
      },
      "source": [
        "np.array(newx).shape"
      ],
      "execution_count": 0,
      "outputs": [
        {
          "output_type": "execute_result",
          "data": {
            "text/plain": [
              "(167347, 64)"
            ]
          },
          "metadata": {
            "tags": []
          },
          "execution_count": 24
        }
      ]
    },
    {
      "cell_type": "code",
      "metadata": {
        "id": "spZu_f0A6Cbt",
        "colab_type": "code",
        "colab": {}
      },
      "source": [
        "newp = tokenizer1.texts_to_sequences(new_P)"
      ],
      "execution_count": 0,
      "outputs": []
    },
    {
      "cell_type": "code",
      "metadata": {
        "id": "xA7L0k0cjJGT",
        "colab_type": "code",
        "outputId": "528d1115-cfad-4a2e-efe9-9b7118708cc2",
        "colab": {
          "base_uri": "https://localhost:8080/",
          "height": 34
        }
      },
      "source": [
        "np.array(newp).shape"
      ],
      "execution_count": 0,
      "outputs": [
        {
          "output_type": "execute_result",
          "data": {
            "text/plain": [
              "(167347, 64)"
            ]
          },
          "metadata": {
            "tags": []
          },
          "execution_count": 23
        }
      ]
    },
    {
      "cell_type": "code",
      "metadata": {
        "id": "3A7tCBQ-56gv",
        "colab_type": "code",
        "colab": {}
      },
      "source": [
        "newxte = tokenizer1.texts_to_sequences(new_Xtest)\n"
      ],
      "execution_count": 0,
      "outputs": []
    },
    {
      "cell_type": "code",
      "metadata": {
        "id": "XFdmAbSs62yG",
        "colab_type": "code",
        "outputId": "006feef5-90b6-4d99-ee31-0d85cc12d647",
        "colab": {
          "base_uri": "https://localhost:8080/",
          "height": 34
        }
      },
      "source": [
        "np.array(newxte).shape"
      ],
      "execution_count": 0,
      "outputs": [
        {
          "output_type": "execute_result",
          "data": {
            "text/plain": [
              "(8011, 64)"
            ]
          },
          "metadata": {
            "tags": []
          },
          "execution_count": 28
        }
      ]
    },
    {
      "cell_type": "code",
      "metadata": {
        "id": "Cu2Qrc9oj1T1",
        "colab_type": "code",
        "colab": {}
      },
      "source": [
        "newpte = tokenizer1.texts_to_sequences(new_Ptest)"
      ],
      "execution_count": 0,
      "outputs": []
    },
    {
      "cell_type": "code",
      "metadata": {
        "id": "-vXRr8BAGtmq",
        "colab_type": "code",
        "outputId": "cf95fdf8-aed2-4261-ffef-e494a0131b99",
        "colab": {
          "base_uri": "https://localhost:8080/",
          "height": 34
        }
      },
      "source": [
        "np.array(newpte).shape"
      ],
      "execution_count": 0,
      "outputs": [
        {
          "output_type": "execute_result",
          "data": {
            "text/plain": [
              "(8011, 64)"
            ]
          },
          "metadata": {
            "tags": []
          },
          "execution_count": 30
        }
      ]
    },
    {
      "cell_type": "code",
      "metadata": {
        "id": "0WvKD-67GzcP",
        "colab_type": "code",
        "outputId": "9e09d8b9-bbbd-4fc1-8de3-52ab1eedaedf",
        "colab": {
          "base_uri": "https://localhost:8080/",
          "height": 34
        }
      },
      "source": [
        "word_index['the']"
      ],
      "execution_count": 0,
      "outputs": [
        {
          "output_type": "execute_result",
          "data": {
            "text/plain": [
              "2"
            ]
          },
          "metadata": {
            "tags": []
          },
          "execution_count": 31
        }
      ]
    },
    {
      "cell_type": "code",
      "metadata": {
        "id": "iwAa5T-V6KQ5",
        "colab_type": "code",
        "outputId": "657647c3-a330-4a78-fc55-3e8db1b31523",
        "colab": {
          "base_uri": "https://localhost:8080/",
          "height": 84
        }
      },
      "source": [
        "from keras.preprocessing.sequence import pad_sequences\n",
        "y = [[tags2index[w[1]] for w in s] for s in sentences]\n",
        "y = pad_sequences(maxlen=max_len, sequences=y, padding=\"post\", value=tags2index[\"O\"])\n",
        "y[15]"
      ],
      "execution_count": 0,
      "outputs": [
        {
          "output_type": "execute_result",
          "data": {
            "text/plain": [
              "array([51, 51, 51, 51, 51, 51, 51, 51,  3, 51, 51, 51, 51, 51, 51, 51, 51,\n",
              "       51, 51, 51, 51, 51, 51, 51, 51, 51, 51, 51, 51, 51, 51, 51, 51, 51,\n",
              "       51, 51, 51, 51, 51, 51, 51, 51, 51, 51, 51, 51, 51, 51, 51, 51, 51,\n",
              "       51, 51, 51, 51, 51, 51, 51, 51, 51, 51, 51, 51, 51], dtype=int32)"
            ]
          },
          "metadata": {
            "tags": []
          },
          "execution_count": 31
        }
      ]
    },
    {
      "cell_type": "code",
      "metadata": {
        "id": "H6-cSQF16bg0",
        "colab_type": "code",
        "outputId": "68e74e13-bc05-4f06-b70e-ce1141f3ec46",
        "colab": {
          "base_uri": "https://localhost:8080/",
          "height": 84
        }
      },
      "source": [
        "ytest = [[tags2index[w[1]] for w in p] for p in sentences2]\n",
        "ytest = pad_sequences(maxlen=max_len, sequences=ytest, padding=\"post\", value=tags2index[\"O\"])\n",
        "ytest[15]"
      ],
      "execution_count": 0,
      "outputs": [
        {
          "output_type": "execute_result",
          "data": {
            "text/plain": [
              "array([51, 51, 51, 51, 51, 51, 51, 51, 51, 51, 51, 51, 51, 51, 51, 51, 51,\n",
              "       51, 51, 51, 51, 51, 51, 51, 51, 51, 51, 51, 51, 51, 51,  3,  4, 51,\n",
              "       51, 51, 51, 51, 51, 51, 51, 51, 51, 51, 51, 51, 51, 51, 51, 51, 51,\n",
              "       51, 51, 51, 51, 51, 51, 51, 51, 51, 51, 51, 51, 51], dtype=int32)"
            ]
          },
          "metadata": {
            "tags": []
          },
          "execution_count": 32
        }
      ]
    },
    {
      "cell_type": "code",
      "metadata": {
        "id": "KsT2ywY_L3qg",
        "colab_type": "code",
        "colab": {}
      },
      "source": [
        "from sklearn.model_selection import train_test_split\n",
        "X_tr, X_te, y_tr, y_te,pred_tr,pred_te = train_test_split(newx, y, newp,test_size=0.01, random_state=2018)"
      ],
      "execution_count": 0,
      "outputs": []
    },
    {
      "cell_type": "code",
      "metadata": {
        "id": "EN7WNyuv6hyZ",
        "colab_type": "code",
        "outputId": "04d7726e-7bbb-4170-cf88-7d5058c25ba7",
        "colab": {
          "base_uri": "https://localhost:8080/",
          "height": 34
        }
      },
      "source": [
        "print(np.array(ytest).shape)"
      ],
      "execution_count": 0,
      "outputs": [
        {
          "output_type": "stream",
          "text": [
            "(10074, 64)\n"
          ],
          "name": "stdout"
        }
      ]
    },
    {
      "cell_type": "code",
      "metadata": {
        "id": "1cDtCESX8Q16",
        "colab_type": "code",
        "outputId": "ea3fe8d7-d5e8-4a1e-e999-d14b22d66a9e",
        "colab": {
          "base_uri": "https://localhost:8080/",
          "height": 134
        }
      },
      "source": [
        "import os\n",
        "GLOVE_DIR=''\n",
        "embeddings = {}\n",
        "k=0\n",
        "with open(os.path.join(GLOVE_DIR,'/content/drive/My Drive/SRL/syngcn_embeddings.txt')) as f:\n",
        "    for line in f:\n",
        "        try:\n",
        "            values = line.split()\n",
        "            word = values[0]\n",
        "            coefs = np.asarray(values[1:])\n",
        "            em = coefs.astype(np.float)\n",
        "            k=k+1\n",
        "            embeddings[word] = em\n",
        "        except:\n",
        "            print(\"hii\")\n",
        "\n",
        "len(embeddings)\n"
      ],
      "execution_count": 0,
      "outputs": [
        {
          "output_type": "stream",
          "text": [
            "hii\n",
            "hii\n",
            "hii\n",
            "hii\n",
            "hii\n",
            "hii\n"
          ],
          "name": "stdout"
        },
        {
          "output_type": "execute_result",
          "data": {
            "text/plain": [
              "149994"
            ]
          },
          "metadata": {
            "tags": []
          },
          "execution_count": 33
        }
      ]
    },
    {
      "cell_type": "code",
      "metadata": {
        "id": "M5CbzcN38eSx",
        "colab_type": "code",
        "colab": {}
      },
      "source": [
        "num_words = min(n_words, len(word_index) + 1)\n",
        "embedding_matrix = np.zeros((num_words, 300))\n",
        "for word, i in word_index.items():\n",
        "    if i >= n_words:\n",
        "        continue\n",
        "    embedding_vector = embeddings.get(word)\n",
        "    if embedding_vector is not None:\n",
        "        embedding_matrix[i] = embedding_vector"
      ],
      "execution_count": 0,
      "outputs": []
    },
    {
      "cell_type": "code",
      "metadata": {
        "id": "5U0E0mzFJPtz",
        "colab_type": "code",
        "outputId": "8a2fff46-e728-4156-a086-245f9495633c",
        "colab": {
          "base_uri": "https://localhost:8080/",
          "height": 34
        }
      },
      "source": [
        "embedding_matrix.shape"
      ],
      "execution_count": 0,
      "outputs": [
        {
          "output_type": "execute_result",
          "data": {
            "text/plain": [
              "(28353, 300)"
            ]
          },
          "metadata": {
            "tags": []
          },
          "execution_count": 35
        }
      ]
    },
    {
      "cell_type": "code",
      "metadata": {
        "id": "NoLOKwGe8paP",
        "colab_type": "code",
        "colab": {}
      },
      "source": [
        "batch_size = 64\n",
        "import tensorflow as tf\n",
        "from keras import backend as K\n",
        "from keras.models import Model, Input\n",
        "from keras.layers.merge import concatenate\n",
        "from keras.layers import LSTM, Embedding, Dense, TimeDistributed, Dropout, Bidirectional, Lambda\n",
        "from keras.initializers import Constant\n",
        "pretrained_embedding_layer = Embedding(num_words,\n",
        "                                300,\n",
        "                                embeddings_initializer=Constant(embedding_matrix),\n",
        "                                input_length=max_len,\n",
        "                                trainable=False)"
      ],
      "execution_count": 0,
      "outputs": []
    },
    {
      "cell_type": "code",
      "metadata": {
        "id": "bYpmFThMGgzP",
        "colab_type": "code",
        "outputId": "eb310439-25f8-49ef-df9d-f7e478f2d6e5",
        "colab": {
          "base_uri": "https://localhost:8080/",
          "height": 118
        }
      },
      "source": [
        "print(np.array(newx).shape)\n",
        "print(np.array(newxte).shape)\n",
        "print(np.array(newp).shape)\n",
        "print(np.array(newpte).shape)\n",
        "print(np.array(y).shape)\n",
        "print(np.array(ytest).shape)"
      ],
      "execution_count": 0,
      "outputs": [
        {
          "output_type": "stream",
          "text": [
            "(167347, 64)\n",
            "(8011, 64)\n",
            "(167347, 64)\n",
            "(8011, 64)\n",
            "(167347, 64, 1)\n",
            "(8011, 64, 1)\n"
          ],
          "name": "stdout"
        }
      ]
    },
    {
      "cell_type": "code",
      "metadata": {
        "id": "qkwn3E9epcEI",
        "colab_type": "code",
        "colab": {}
      },
      "source": [
        "y = y.reshape(y.shape[0], y.shape[1], 1)\n",
        "ytest = ytest.reshape(ytest.shape[0], ytest.shape[1], 1)"
      ],
      "execution_count": 0,
      "outputs": []
    },
    {
      "cell_type": "code",
      "metadata": {
        "id": "FiMJLtqVJoq7",
        "colab_type": "code",
        "outputId": "dd73e252-61c5-458f-e1d4-399faf80a6dc",
        "colab": {
          "base_uri": "https://localhost:8080/",
          "height": 34
        }
      },
      "source": [
        "np.array(newx).shape"
      ],
      "execution_count": 0,
      "outputs": [
        {
          "output_type": "execute_result",
          "data": {
            "text/plain": [
              "(167347, 64)"
            ]
          },
          "metadata": {
            "tags": []
          },
          "execution_count": 52
        }
      ]
    },
    {
      "cell_type": "code",
      "metadata": {
        "id": "z0OrqKBr8JoS",
        "colab_type": "code",
        "outputId": "21c3a3df-a403-4208-fff2-f878cf248106",
        "colab": {
          "base_uri": "https://localhost:8080/",
          "height": 420
        }
      },
      "source": [
        "sequence_input = Input(shape=(max_len,), dtype='int32')\n",
        "embedded_sequences = pretrained_embedding_layer(sequence_input)\n",
        "sequence_input1 = Input(shape=(max_len,), dtype='int32')\n",
        "embedded_sequences1 = pretrained_embedding_layer(sequence_input1)\n",
        "t = concatenate([embedded_sequences, embedded_sequences1])\n",
        "x = Bidirectional(LSTM(units=64, return_sequences=True,\n",
        "                       recurrent_dropout=0.2, dropout=0.2))(t)\n",
        "x_rnn = Bidirectional(LSTM(units=64, return_sequences=True,\n",
        "                           recurrent_dropout=0.2, dropout=0.2))(x)\n",
        "out = TimeDistributed(Dense(n_tags, activation=\"softmax\"))(x_rnn)\n",
        "model = Model([sequence_input,sequence_input1], out)\n",
        "model.compile(optimizer=\"adam\", loss=\"sparse_categorical_crossentropy\")\n",
        "model.summary()"
      ],
      "execution_count": 0,
      "outputs": [
        {
          "output_type": "stream",
          "text": [
            "Model: \"model_3\"\n",
            "__________________________________________________________________________________________________\n",
            "Layer (type)                    Output Shape         Param #     Connected to                     \n",
            "==================================================================================================\n",
            "input_17 (InputLayer)           (None, 64)           0                                            \n",
            "__________________________________________________________________________________________________\n",
            "input_18 (InputLayer)           (None, 64)           0                                            \n",
            "__________________________________________________________________________________________________\n",
            "embedding_4 (Embedding)         (None, 64, 300)      8505900     input_17[0][0]                   \n",
            "                                                                 input_18[0][0]                   \n",
            "__________________________________________________________________________________________________\n",
            "concatenate_4 (Concatenate)     (None, 64, 600)      0           embedding_4[4][0]                \n",
            "                                                                 embedding_4[5][0]                \n",
            "__________________________________________________________________________________________________\n",
            "bidirectional_6 (Bidirectional) (None, 64, 128)      340480      concatenate_4[0][0]              \n",
            "__________________________________________________________________________________________________\n",
            "bidirectional_7 (Bidirectional) (None, 64, 128)      98816       bidirectional_6[0][0]            \n",
            "__________________________________________________________________________________________________\n",
            "time_distributed_3 (TimeDistrib (None, 64, 53)       6837        bidirectional_7[0][0]            \n",
            "==================================================================================================\n",
            "Total params: 8,952,033\n",
            "Trainable params: 446,133\n",
            "Non-trainable params: 8,505,900\n",
            "__________________________________________________________________________________________________\n"
          ],
          "name": "stdout"
        }
      ]
    },
    {
      "cell_type": "code",
      "metadata": {
        "id": "3lYtBG137XRK",
        "colab_type": "code",
        "outputId": "c6c43c73-2e70-421d-88ca-b17bf784882c",
        "colab": {
          "base_uri": "https://localhost:8080/",
          "height": 437
        }
      },
      "source": [
        "history = model.fit([newx,newp], y, validation_data=([newxte,newpte],ytest),\n",
        "                    batch_size=32, epochs=20, verbose=1)"
      ],
      "execution_count": 0,
      "outputs": [
        {
          "output_type": "stream",
          "text": [
            "Train on 167347 samples, validate on 8011 samples\n",
            "Epoch 1/30\n",
            "167347/167347 [==============================] - 1491s 9ms/step - loss: 0.0908 - val_loss: 0.0659\n",
            "Epoch 2/30\n",
            "167347/167347 [==============================] - 1490s 9ms/step - loss: 0.0620 - val_loss: 0.0565\n",
            "Epoch 3/30\n",
            "167347/167347 [==============================] - 1495s 9ms/step - loss: 0.0547 - val_loss: 0.0523\n",
            "Epoch 4/30\n",
            "167347/167347 [==============================] - 1496s 9ms/step - loss: 0.0509 - val_loss: 0.0501\n",
            "Epoch 5/30\n",
            "167347/167347 [==============================] - 1497s 9ms/step - loss: 0.0484 - val_loss: 0.0485\n",
            "Epoch 6/30\n",
            "167347/167347 [==============================] - 1492s 9ms/step - loss: 0.0466 - val_loss: 0.0471\n",
            "Epoch 7/30\n",
            "167347/167347 [==============================] - 1493s 9ms/step - loss: 0.0453 - val_loss: 0.0466\n",
            "Epoch 8/30\n",
            "167347/167347 [==============================] - 1505s 9ms/step - loss: 0.0443 - val_loss: 0.0460\n",
            "Epoch 9/30\n",
            "167347/167347 [==============================] - 1495s 9ms/step - loss: 0.0434 - val_loss: 0.0462\n",
            "Epoch 10/30\n",
            "167347/167347 [==============================] - 1503s 9ms/step - loss: 0.0427 - val_loss: 0.0450\n",
            "Epoch 11/30\n",
            "167347/167347 [==============================] - 1510s 9ms/step - loss: 0.0421 - val_loss: 0.0451\n",
            "Epoch 12/30\n",
            "110688/167347 [==================>...........] - ETA: 8:20 - loss: 0.0415Buffered data was truncated after reaching the output size limit."
          ],
          "name": "stdout"
        }
      ]
    },
    {
      "cell_type": "code",
      "metadata": {
        "id": "x49WJoAYw5hd",
        "colab_type": "code",
        "colab": {}
      },
      "source": [
        ""
      ],
      "execution_count": 0,
      "outputs": []
    },
    {
      "cell_type": "code",
      "metadata": {
        "id": "O0uUrJ5E7kwS",
        "colab_type": "code",
        "colab": {}
      },
      "source": [
        "model.save_weights(\"/content/drive/My Drive/SRL/model30ep.h5\")"
      ],
      "execution_count": 0,
      "outputs": []
    },
    {
      "cell_type": "code",
      "metadata": {
        "id": "xf9R_7yBwSei",
        "colab_type": "code",
        "outputId": "a7cd0f7a-324b-4264-ab7c-57eb8b6ad3db",
        "colab": {
          "base_uri": "https://localhost:8080/",
          "height": 34
        }
      },
      "source": [
        "print(history.history['loss'])"
      ],
      "execution_count": 0,
      "outputs": [
        {
          "output_type": "stream",
          "text": [
            "[0.09851549382959082]\n"
          ],
          "name": "stdout"
        }
      ]
    },
    {
      "cell_type": "code",
      "metadata": {
        "id": "0lyL5nUD7lEd",
        "colab_type": "code",
        "colab": {}
      },
      "source": [
        ""
      ],
      "execution_count": 0,
      "outputs": []
    },
    {
      "cell_type": "code",
      "metadata": {
        "id": "ANNuZfujy7nI",
        "colab_type": "code",
        "outputId": "e66814e0-65f8-46a3-80df-8367765f2b9b",
        "colab": {
          "base_uri": "https://localhost:8080/",
          "height": 322
        }
      },
      "source": [
        "!pip install seqeval"
      ],
      "execution_count": 0,
      "outputs": [
        {
          "output_type": "stream",
          "text": [
            "Collecting seqeval\n",
            "  Downloading https://files.pythonhosted.org/packages/34/91/068aca8d60ce56dd9ba4506850e876aba5e66a6f2f29aa223224b50df0de/seqeval-0.0.12.tar.gz\n",
            "Requirement already satisfied: numpy>=1.14.0 in /usr/local/lib/python3.6/dist-packages (from seqeval) (1.18.4)\n",
            "Requirement already satisfied: Keras>=2.2.4 in /usr/local/lib/python3.6/dist-packages (from seqeval) (2.3.1)\n",
            "Requirement already satisfied: scipy>=0.14 in /usr/local/lib/python3.6/dist-packages (from Keras>=2.2.4->seqeval) (1.4.1)\n",
            "Requirement already satisfied: h5py in /usr/local/lib/python3.6/dist-packages (from Keras>=2.2.4->seqeval) (2.10.0)\n",
            "Requirement already satisfied: keras-applications>=1.0.6 in /usr/local/lib/python3.6/dist-packages (from Keras>=2.2.4->seqeval) (1.0.8)\n",
            "Requirement already satisfied: pyyaml in /usr/local/lib/python3.6/dist-packages (from Keras>=2.2.4->seqeval) (3.13)\n",
            "Requirement already satisfied: six>=1.9.0 in /usr/local/lib/python3.6/dist-packages (from Keras>=2.2.4->seqeval) (1.12.0)\n",
            "Requirement already satisfied: keras-preprocessing>=1.0.5 in /usr/local/lib/python3.6/dist-packages (from Keras>=2.2.4->seqeval) (1.1.0)\n",
            "Building wheels for collected packages: seqeval\n",
            "  Building wheel for seqeval (setup.py) ... \u001b[?25l\u001b[?25hdone\n",
            "  Created wheel for seqeval: filename=seqeval-0.0.12-cp36-none-any.whl size=7424 sha256=de3efe7b1eeed4409eadfdfcddb78abfff2a435dcf805e92bd8e23474bc2022c\n",
            "  Stored in directory: /root/.cache/pip/wheels/4f/32/0a/df3b340a82583566975377d65e724895b3fad101a3fb729f68\n",
            "Successfully built seqeval\n",
            "Installing collected packages: seqeval\n",
            "Successfully installed seqeval-0.0.12\n"
          ],
          "name": "stdout"
        }
      ]
    },
    {
      "cell_type": "code",
      "metadata": {
        "id": "g9Pyqfdhoh0m",
        "colab_type": "code",
        "outputId": "28535fa9-c79e-4e25-b4bb-faab0095e7b4",
        "colab": {
          "base_uri": "https://localhost:8080/",
          "height": 34
        }
      },
      "source": [
        "from seqeval.metrics import precision_score, recall_score, f1_score, classification_report\n",
        "test_pred = mode.predict([np.array(newxte),np.array(newpte)], verbose=1)"
      ],
      "execution_count": 0,
      "outputs": [
        {
          "output_type": "stream",
          "text": [
            "8011/8011 [==============================] - 18s 2ms/step\n"
          ],
          "name": "stdout"
        }
      ]
    },
    {
      "cell_type": "code",
      "metadata": {
        "id": "4c79wVLOzLbo",
        "colab_type": "code",
        "colab": {}
      },
      "source": [
        "idx2tag = {i: w for w, i in tags2index.items()}\n",
        "\n",
        "def pred2label(pred):\n",
        "    out = []\n",
        "    for pred_i in pred:\n",
        "        out_i = []\n",
        "        for p in pred_i:\n",
        "            p_i = np.argmax(p)\n",
        "            out_i.append(idx2tag[p_i].replace(\"PADword\", \"O\"))\n",
        "        out.append(out_i)\n",
        "    return out\n",
        "\n",
        "def test2label(pred):\n",
        "    out = []\n",
        "    for pred_i in pred:\n",
        "        out_i = []\n",
        "        for p in pred_i:\n",
        "            out_i.append(idx2tag[p].replace(\"PADword\", \"O\"))\n",
        "        out.append(out_i)\n",
        "    return out\n",
        "    \n",
        "pred_labels = pred2label(test_pred)\n",
        "test_labels = test2label(ytest[:,:,0])"
      ],
      "execution_count": 0,
      "outputs": []
    },
    {
      "cell_type": "code",
      "metadata": {
        "id": "4OoB8AE4zlWE",
        "colab_type": "code",
        "outputId": "9c489be6-9a97-4804-a547-1d72c81c18a7",
        "colab": {
          "base_uri": "https://localhost:8080/",
          "height": 34
        }
      },
      "source": [
        "print(\"F1-score: {:.1%}\".format(f1_score(test_labels, pred_labels)))"
      ],
      "execution_count": 0,
      "outputs": [
        {
          "output_type": "stream",
          "text": [
            "F1-score: 77.0%\n"
          ],
          "name": "stdout"
        }
      ]
    },
    {
      "cell_type": "code",
      "metadata": {
        "id": "U7nz3snu70A2",
        "colab_type": "code",
        "outputId": "eff18511-dd27-4e34-a57a-be3666017f84",
        "colab": {
          "base_uri": "https://localhost:8080/",
          "height": 437
        }
      },
      "source": [
        "print(classification_report(test_labels, pred_labels))"
      ],
      "execution_count": 0,
      "outputs": [
        {
          "output_type": "stream",
          "text": [
            "           precision    recall  f1-score   support\n",
            "\n",
            "       A1       0.82      0.81      0.82      6737\n",
            "       A0       0.80      0.79      0.79      4519\n",
            "      ADV       0.61      0.47      0.53       394\n",
            "      LOC       0.61      0.58      0.59       463\n",
            "       A2       0.72      0.66      0.69      2024\n",
            "      MOD       0.93      0.97      0.95       425\n",
            "       A3       0.78      0.59      0.67       388\n",
            "      NEG       0.94      0.92      0.93       178\n",
            "      MNR       0.61      0.65      0.63       539\n",
            "      DIS       0.60      0.70      0.65       181\n",
            "      TMP       0.76      0.75      0.75      1169\n",
            "      EXT       0.59      0.52      0.55        58\n",
            "      PNC       0.47      0.56      0.51        85\n",
            "      DIR       0.68      0.45      0.54        62\n",
            "       A4       0.76      0.80      0.78        90\n",
            "      PRD       0.00      0.00      0.00         3\n",
            "       A5       0.67      0.40      0.50         5\n",
            "      CAU       0.64      0.71      0.67        51\n",
            "      REC       0.00      0.00      0.00         1\n",
            "\n",
            "micro avg       0.78      0.76      0.77     17372\n",
            "macro avg       0.78      0.76      0.77     17372\n",
            "\n"
          ],
          "name": "stdout"
        }
      ]
    },
    {
      "cell_type": "code",
      "metadata": {
        "id": "CpQXusf30461",
        "colab_type": "code",
        "outputId": "1f951668-f1f9-4e30-c775-2194b3336be2",
        "colab": {
          "base_uri": "https://localhost:8080/",
          "height": 907
        }
      },
      "source": [
        "idx2tag"
      ],
      "execution_count": 0,
      "outputs": [
        {
          "output_type": "execute_result",
          "data": {
            "text/plain": [
              "{0: 'C-AM-PNC',\n",
              " 1: 'C-AM-DIR',\n",
              " 2: 'AM-TM',\n",
              " 3: 'A0',\n",
              " 4: 'A2',\n",
              " 5: 'C-A1',\n",
              " 6: 'C-AM-EXT',\n",
              " 7: 'AM-LOC',\n",
              " 8: 'R-AA',\n",
              " 9: 'AM-DIR',\n",
              " 10: 'A3',\n",
              " 11: 'AM-NEG',\n",
              " 12: 'R-AM-ADV',\n",
              " 13: 'AM-ADV',\n",
              " 14: 'C-AM-DIS',\n",
              " 15: 'R-AM-PNC',\n",
              " 16: 'A4',\n",
              " 17: 'C-AM-MNR',\n",
              " 18: 'AM',\n",
              " 19: 'AM-MNR',\n",
              " 20: 'C-A3',\n",
              " 21: 'A5',\n",
              " 22: 'AM-CAU',\n",
              " 23: 'R-AM-TMP',\n",
              " 24: 'C-AM-LOC',\n",
              " 25: 'AM-PRD',\n",
              " 26: 'R-AM-EXT',\n",
              " 27: 'C-A4',\n",
              " 28: 'R-A0',\n",
              " 29: 'AM-EXT',\n",
              " 30: 'R-A1',\n",
              " 31: 'C-AM-NEG',\n",
              " 32: 'C-A2',\n",
              " 33: 'AM-TMP',\n",
              " 34: 'AM-REC',\n",
              " 35: 'R-AM-CAU',\n",
              " 36: 'R-A2',\n",
              " 37: 'R-AM-MNR',\n",
              " 38: 'AM-DIS',\n",
              " 39: 'C-AM-CAU',\n",
              " 40: 'AM-PRT',\n",
              " 41: 'AM-MOD',\n",
              " 42: 'C-A0',\n",
              " 43: 'R-A4',\n",
              " 44: 'AA',\n",
              " 45: 'C-AM-ADV',\n",
              " 46: 'C-AM-TMP',\n",
              " 47: 'AM-PNC',\n",
              " 48: 'R-A3',\n",
              " 49: 'A1',\n",
              " 50: 'R-AM-DIR',\n",
              " 51: 'O',\n",
              " 52: 'R-AM-LOC'}"
            ]
          },
          "metadata": {
            "tags": []
          },
          "execution_count": 69
        }
      ]
    },
    {
      "cell_type": "code",
      "metadata": {
        "id": "Opv1v3rj0Dvo",
        "colab_type": "code",
        "outputId": "4c21138a-a6d3-47bb-a531-859a07144587",
        "colab": {
          "base_uri": "https://localhost:8080/",
          "height": 1000
        }
      },
      "source": [
        "i = 67\n",
        "p = mode.predict([np.array(newxte[i:i+32]),np.array(newpte[i:i+32])])[0]\n",
        "p = np.argmax(p, axis=-1)\n",
        "print(\"{:15} {:5}: ({})\".format(\"Word\", \"Pred\", \"True\"))\n",
        "print(\"=\"*30)\n",
        "for w, true, pred in zip(newxte[i], ytest[i,:,0], p):\n",
        "    if w != 1:\n",
        "        listofkeys = [key for (key, value) in word_index.items() if value == w ]\n",
        "        print(\"{:15}:{:5} ({})\".format(listofkeys[0], idx2tag[pred], idx2tag[true]))\n",
        "k=0\n",
        "while k<len(newpte[i]):\n",
        "    if(newpte[i][k]!=1):\n",
        "        listofkeys = [key for (key, value) in word_index.items() if value == newpte[i][k] ]\n",
        "        print(\"\\nPredicate: \"+ listofkeys[0])\n",
        "        break\n",
        "    k=k+1"
      ],
      "execution_count": 0,
      "outputs": [
        {
          "output_type": "stream",
          "text": [
            "Word            Pred : (True)\n",
            "==============================\n",
            "toshiba        :O     (O)\n",
            "'s             :O     (O)\n",
            "line           :O     (O)\n",
            "of             :O     (O)\n",
            "portable       :O     (O)\n",
            ",              :O     (O)\n",
            "for            :O     (O)\n",
            "example        :O     (O)\n",
            ",              :O     (O)\n",
            "feature        :O     (O)\n",
            "the            :O     (O)\n",
            "t              :O     (O)\n",
            "-              :O     (O)\n",
            ",              :O     (O)\n",
            "which          :O     (O)\n",
            "be             :O     (O)\n",
            "in             :O     (O)\n",
            "the            :O     (O)\n",
            "same           :O     (O)\n",
            "weight         :O     (O)\n",
            "class          :O     (O)\n",
            "but            :O     (O)\n",
            "be             :O     (O)\n",
            "much           :O     (O)\n",
            "slow           :O     (O)\n",
            "and            :O     (O)\n",
            "have           :O     (O)\n",
            "less           :O     (O)\n",
            "memory         :O     (O)\n",
            ",              :O     (O)\n",
            "and            :O     (O)\n",
            "the            :O     (O)\n",
            "t              :O     (O)\n",
            "-              :O     (O)\n",
            ",              :O     (O)\n",
            "which          :O     (O)\n",
            "also           :O     (O)\n",
            "use            :O     (O)\n",
            "a              :O     (O)\n",
            "286            :O     (O)\n",
            "microprocessor :O     (O)\n",
            ",              :O     (O)\n",
            "but            :O     (O)\n",
            "which          :O     (O)\n",
            "weigh          :O     (O)\n",
            "almost         :O     (O)\n",
            "twice          :O     (O)\n",
            "as             :O     (O)\n",
            "much           :O     (O)\n",
            "and            :O     (O)\n",
            "be             :O     (O)\n",
            "three          :A2    (A2)\n",
            "times          :O     (O)\n",
            "the            :O     (O)\n",
            "size           :A1    (A1)\n",
            "\n",
            "Predicate: times\n"
          ],
          "name": "stdout"
        }
      ]
    },
    {
      "cell_type": "code",
      "metadata": {
        "id": "VYtcZYDu2fHU",
        "colab_type": "code",
        "colab": {}
      },
      "source": [
        "from keras.models import load_model\n"
      ],
      "execution_count": 0,
      "outputs": []
    },
    {
      "cell_type": "code",
      "metadata": {
        "id": "0YIg5d3SyN_j",
        "colab_type": "code",
        "colab": {}
      },
      "source": [
        "model.save(\"/content/drive/My Drive/SRL/mode30.h5\")"
      ],
      "execution_count": 0,
      "outputs": []
    },
    {
      "cell_type": "code",
      "metadata": {
        "id": "UzIlQy6ayWPd",
        "colab_type": "code",
        "colab": {}
      },
      "source": [
        "mode=load_model(\"/content/drive/My Drive/SRL/mode30.h5\")"
      ],
      "execution_count": 0,
      "outputs": []
    },
    {
      "cell_type": "code",
      "metadata": {
        "id": "yYPIBdlw2iMx",
        "colab_type": "code",
        "outputId": "1423c561-1e17-4a5b-dc9c-6c85a8eb84e5",
        "colab": {
          "base_uri": "https://localhost:8080/",
          "height": 420
        }
      },
      "source": [
        "mode.summary()"
      ],
      "execution_count": 0,
      "outputs": [
        {
          "output_type": "stream",
          "text": [
            "Model: \"model_3\"\n",
            "__________________________________________________________________________________________________\n",
            "Layer (type)                    Output Shape         Param #     Connected to                     \n",
            "==================================================================================================\n",
            "input_17 (InputLayer)           (None, 64)           0                                            \n",
            "__________________________________________________________________________________________________\n",
            "input_18 (InputLayer)           (None, 64)           0                                            \n",
            "__________________________________________________________________________________________________\n",
            "embedding_4 (Embedding)         (None, 64, 300)      8505900     input_17[0][0]                   \n",
            "                                                                 input_18[0][0]                   \n",
            "__________________________________________________________________________________________________\n",
            "concatenate_4 (Concatenate)     (None, 64, 600)      0           embedding_4[0][0]                \n",
            "                                                                 embedding_4[1][0]                \n",
            "__________________________________________________________________________________________________\n",
            "bidirectional_6 (Bidirectional) (None, 64, 128)      340480      concatenate_4[0][0]              \n",
            "__________________________________________________________________________________________________\n",
            "bidirectional_7 (Bidirectional) (None, 64, 128)      98816       bidirectional_6[0][0]            \n",
            "__________________________________________________________________________________________________\n",
            "time_distributed_3 (TimeDistrib (None, 64, 53)       6837        bidirectional_7[0][0]            \n",
            "==================================================================================================\n",
            "Total params: 8,952,033\n",
            "Trainable params: 446,133\n",
            "Non-trainable params: 8,505,900\n",
            "__________________________________________________________________________________________________\n"
          ],
          "name": "stdout"
        }
      ]
    },
    {
      "cell_type": "code",
      "metadata": {
        "id": "LoE0LTiCUAYb",
        "colab_type": "code",
        "colab": {}
      },
      "source": [
        "mode.compile(optimizer=\"adam\", loss=\"sparse_categorical_crossentropy\")"
      ],
      "execution_count": 0,
      "outputs": []
    },
    {
      "cell_type": "code",
      "metadata": {
        "id": "mqkktSKeURXe",
        "colab_type": "code",
        "outputId": "afbb0f71-bdc7-420e-dcd5-a02336805a50",
        "colab": {
          "base_uri": "https://localhost:8080/",
          "height": 101
        }
      },
      "source": [
        "history3 = mode.fit([newx,newp], y, validation_data=([newxte,newpte],ytest),\n",
        "                    batch_size=32, epochs=2, verbose=1)"
      ],
      "execution_count": 0,
      "outputs": [
        {
          "output_type": "stream",
          "text": [
            "Train on 167347 samples, validate on 8011 samples\n",
            "Epoch 1/2\n",
            "167347/167347 [==============================] - 1731s 10ms/step - loss: 0.0389 - val_loss: 0.0424\n",
            "Epoch 2/2\n",
            "167347/167347 [==============================] - 1726s 10ms/step - loss: 0.0387 - val_loss: 0.0425\n"
          ],
          "name": "stdout"
        }
      ]
    },
    {
      "cell_type": "code",
      "metadata": {
        "id": "BsqZhXUt32cw",
        "colab_type": "code",
        "colab": {}
      },
      "source": [
        "mode.save(\"/content/drive/My Drive/SRL/modeext.h5\")"
      ],
      "execution_count": 0,
      "outputs": []
    },
    {
      "cell_type": "code",
      "metadata": {
        "id": "_8_96EEFmHcQ",
        "colab_type": "code",
        "outputId": "a332329c-7557-4dc5-a9e5-329875ca7c90",
        "colab": {
          "base_uri": "https://localhost:8080/",
          "height": 151
        }
      },
      "source": [
        "inp=input(\"Sentence:\" )\n",
        "predicate=input(\"Predicate: \")\n",
        "\n",
        "max_len = 64\n",
        "X = [s for s in inp.split()]\n",
        "usrinp = []\n",
        "new_seq = []\n",
        "for i in range(max_len):\n",
        "        try:\n",
        "            if(X[i] in word_index):\n",
        "                          new_seq.append(X[i])\n",
        "            else:\n",
        "              new_seq.append(\"PADword\")\n",
        "        except:\n",
        "            new_seq.append(\"PADword\")\n",
        "usrinp.append(new_seq)\n",
        "userpad=[]\n",
        "for i in range(max_len):\n",
        "  if(usrinp[0][i]==predicate):\n",
        "    userpad.append(predicate)\n",
        "  else:\n",
        "    userpad.append(\"PADword\")\n",
        "userte = tokenizer1.texts_to_sequences(usrinp)\n",
        "usrpred= tokenizer1.texts_to_sequences([userpad])\n",
        "x=inp.split()\n",
        "p = mode.predict([userte,usrpred])[0]\n",
        "p = np.argmax(p, axis=-1)\n",
        "print(\"\\n\")\n",
        "wr=0\n",
        "for pred in p:\n",
        "        print(x[wr],idx2tag[pred])\n",
        "        wr+=1\n",
        "        if(wr==len(inp.split())):\n",
        "          break\n",
        "k=0\n"
      ],
      "execution_count": 0,
      "outputs": [
        {
          "output_type": "stream",
          "text": [
            "Sentence:mary cooked the food\n",
            "Predicate: cooked\n",
            "\n",
            "\n",
            "mary A0\n",
            "cooked O\n",
            "the O\n",
            "food A1\n"
          ],
          "name": "stdout"
        }
      ]
    }
  ]
}